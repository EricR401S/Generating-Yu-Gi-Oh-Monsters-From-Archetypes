{
 "cells": [
  {
   "cell_type": "code",
   "execution_count": 1,
   "metadata": {},
   "outputs": [
    {
     "ename": "ModuleNotFoundError",
     "evalue": "No module named 'pandas'",
     "output_type": "error",
     "traceback": [
      "\u001b[0;31m---------------------------------------------------------------------------\u001b[0m",
      "\u001b[0;31mModuleNotFoundError\u001b[0m                       Traceback (most recent call last)",
      "Cell \u001b[0;32mIn[1], line 1\u001b[0m\n\u001b[0;32m----> 1\u001b[0m \u001b[38;5;28;01mimport\u001b[39;00m \u001b[38;5;21;01mpandas\u001b[39;00m \u001b[38;5;28;01mas\u001b[39;00m \u001b[38;5;21;01mpd\u001b[39;00m\n",
      "\u001b[0;31mModuleNotFoundError\u001b[0m: No module named 'pandas'"
     ]
    }
   ],
   "source": [
    "import pandas as pd"
   ]
  },
  {
   "cell_type": "code",
   "execution_count": 3,
   "metadata": {},
   "outputs": [
    {
     "name": "stdout",
     "output_type": "stream",
     "text": [
      "Channels:\n",
      " - defaults\n",
      " - conda-forge\n",
      " - nvidia\n",
      " - pytorch\n",
      "Platform: linux-64\n",
      "Collecting package metadata (repodata.json): done\n",
      "Solving environment: done\n",
      "\n",
      "## Package Plan ##\n",
      "\n",
      "  environment location: /opt/conda/envs/ygo\n",
      "\n",
      "  added / updated specs:\n",
      "    - pandas\n",
      "\n",
      "\n",
      "The following packages will be downloaded:\n",
      "\n",
      "    package                    |            build\n",
      "    ---------------------------|-----------------\n",
      "    bottleneck-1.3.7           |  py312ha883a20_0         140 KB\n",
      "    numexpr-2.8.7              |  py312hf827012_0         149 KB\n",
      "    pandas-2.2.1               |  py312h526ad5a_0        15.4 MB\n",
      "    python-tzdata-2023.3       |     pyhd3eb1b0_0         140 KB\n",
      "    ------------------------------------------------------------\n",
      "                                           Total:        15.8 MB\n",
      "\n",
      "The following NEW packages will be INSTALLED:\n",
      "\n",
      "  bottleneck         pkgs/main/linux-64::bottleneck-1.3.7-py312ha883a20_0 \n",
      "  numexpr            pkgs/main/linux-64::numexpr-2.8.7-py312hf827012_0 \n",
      "  pandas             pkgs/main/linux-64::pandas-2.2.1-py312h526ad5a_0 \n",
      "  python-tzdata      pkgs/main/noarch::python-tzdata-2023.3-pyhd3eb1b0_0 \n",
      "\n",
      "\n",
      "\n",
      "Downloading and Extracting Packages:\n",
      "pandas-2.2.1         | 15.4 MB   |                                       |   0% \n",
      "numexpr-2.8.7        | 149 KB    |                                       |   0% \u001b[A\n",
      "\n",
      "python-tzdata-2023.3 | 140 KB    |                                       |   0% \u001b[A\u001b[A\n",
      "\n",
      "\n",
      "pandas-2.2.1         | 15.4 MB   |                                       |   0% \u001b[A\u001b[A\u001b[A\n",
      "numexpr-2.8.7        | 149 KB    | ###9                                  |  11% \u001b[A\n",
      "\n",
      "\n",
      "bottleneck-1.3.7     | 140 KB    | ####2                                 |  11% \u001b[A\u001b[A\u001b[A\n",
      "\n",
      "pandas-2.2.1         | 15.4 MB   | ########3                             |  22% \u001b[A\u001b[A\n",
      "numexpr-2.8.7        | 149 KB    | ##################################### | 100% \u001b[A\n",
      "numexpr-2.8.7        | 149 KB    | ##################################### | 100% \u001b[A\n",
      "\n",
      "\n",
      "bottleneck-1.3.7     | 140 KB    | ##################################### | 100% \u001b[A\u001b[A\u001b[A\n",
      "\n",
      "\n",
      "pandas-2.2.1         | 15.4 MB   | ##################6                   |  50% \u001b[A\u001b[A\u001b[A\n",
      "\n",
      "python-tzdata-2023.3 | 140 KB    | ##################################### | 100% \u001b[A\u001b[A\n",
      "\n",
      "                                                                                \u001b[A\u001b[A\n",
      "                                                                                \u001b[A\n",
      "\n",
      "                                                                                \u001b[A\u001b[A\n",
      "\n",
      "\n",
      "                                                                                \u001b[A\u001b[A\u001b[A\n",
      "Preparing transaction: done\n",
      "Verifying transaction: done\n",
      "Executing transaction: done\n"
     ]
    }
   ],
   "source": [
    "!conda install pandas -y\n"
   ]
  },
  {
   "cell_type": "code",
   "execution_count": 5,
   "metadata": {},
   "outputs": [],
   "source": [
    "import pandas as pd"
   ]
  },
  {
   "cell_type": "code",
   "execution_count": 6,
   "metadata": {},
   "outputs": [],
   "source": [
    "df = pd.read_csv(\"/workspaces/Generating-Yu-Gi-Oh-Monsters-From-Archetypes/card_database.csv\")"
   ]
  },
  {
   "cell_type": "code",
   "execution_count": 9,
   "metadata": {},
   "outputs": [
    {
     "data": {
      "text/plain": [
       "array(['Spell Card', 'Flip Effect Monster', 'Normal Monster',\n",
       "       'Effect Monster', 'Trap Card', 'Union Effect Monster',\n",
       "       'Fusion Monster', 'Pendulum Effect Monster', 'Link Monster',\n",
       "       'XYZ Monster', 'Synchro Monster', 'Synchro Tuner Monster',\n",
       "       'Tuner Monster', 'Gemini Monster', 'Normal Tuner Monster',\n",
       "       'Spirit Monster', 'Ritual Effect Monster', 'Skill Card', 'Token',\n",
       "       'Pendulum Effect Fusion Monster', 'Toon Monster',\n",
       "       'Pendulum Normal Monster', 'Synchro Pendulum Effect Monster',\n",
       "       'Pendulum Tuner Effect Monster', 'XYZ Pendulum Effect Monster',\n",
       "       'Pendulum Effect Ritual Monster', 'Ritual Monster',\n",
       "       'Pendulum Flip Effect Monster'], dtype=object)"
      ]
     },
     "execution_count": 9,
     "metadata": {},
     "output_type": "execute_result"
    }
   ],
   "source": [
    "df[\"type\"].unique()"
   ]
  },
  {
   "cell_type": "code",
   "execution_count": 10,
   "metadata": {},
   "outputs": [
    {
     "name": "stdout",
     "output_type": "stream",
     "text": [
      "OK\n"
     ]
    }
   ],
   "source": [
    "card = {\"type\": 'Synchro Pendulum Effect Monster'}\n",
    "\n",
    "for type in set(card[\"type\"].lower().split(\" \")):\n",
    "\n",
    "    if type in [\"trap\", \"spell\", \"monster\"]:\n",
    "\n",
    "        print(\"OK\")"
   ]
  },
  {
   "cell_type": "code",
   "execution_count": null,
   "metadata": {},
   "outputs": [],
   "source": []
  }
 ],
 "metadata": {
  "kernelspec": {
   "display_name": "ygo",
   "language": "python",
   "name": "python3"
  },
  "language_info": {
   "codemirror_mode": {
    "name": "ipython",
    "version": 3
   },
   "file_extension": ".py",
   "mimetype": "text/x-python",
   "name": "python",
   "nbconvert_exporter": "python",
   "pygments_lexer": "ipython3",
   "version": "3.12.3"
  }
 },
 "nbformat": 4,
 "nbformat_minor": 2
}
