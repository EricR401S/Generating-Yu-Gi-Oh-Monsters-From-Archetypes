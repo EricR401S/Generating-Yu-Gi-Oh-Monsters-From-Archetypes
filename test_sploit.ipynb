{
 "cells": [
  {
   "cell_type": "code",
   "execution_count": 13,
   "metadata": {},
   "outputs": [],
   "source": [
    "import pandas as pd"
   ]
  },
  {
   "cell_type": "code",
   "execution_count": 14,
   "metadata": {},
   "outputs": [],
   "source": [
    "df = pd.read_csv(\"training_data_final/sampled_all_training_cards.csv\")"
   ]
  },
  {
   "cell_type": "code",
   "execution_count": 15,
   "metadata": {},
   "outputs": [
    {
     "data": {
      "text/plain": [
       "(5284, 14)"
      ]
     },
     "execution_count": 15,
     "metadata": {},
     "output_type": "execute_result"
    }
   ],
   "source": [
    "df.shape"
   ]
  },
  {
   "cell_type": "code",
   "execution_count": 16,
   "metadata": {},
   "outputs": [
    {
     "data": {
      "text/html": [
       "<div>\n",
       "<style scoped>\n",
       "    .dataframe tbody tr th:only-of-type {\n",
       "        vertical-align: middle;\n",
       "    }\n",
       "\n",
       "    .dataframe tbody tr th {\n",
       "        vertical-align: top;\n",
       "    }\n",
       "\n",
       "    .dataframe thead th {\n",
       "        text-align: right;\n",
       "    }\n",
       "</style>\n",
       "<table border=\"1\" class=\"dataframe\">\n",
       "  <thead>\n",
       "    <tr style=\"text-align: right;\">\n",
       "      <th></th>\n",
       "      <th>id</th>\n",
       "      <th>name</th>\n",
       "      <th>type</th>\n",
       "      <th>desc</th>\n",
       "      <th>atk</th>\n",
       "      <th>def</th>\n",
       "      <th>level</th>\n",
       "      <th>race</th>\n",
       "      <th>attribute</th>\n",
       "      <th>archetype</th>\n",
       "      <th>image_url</th>\n",
       "      <th>image_path</th>\n",
       "      <th>file_name</th>\n",
       "      <th>image_id</th>\n",
       "    </tr>\n",
       "  </thead>\n",
       "  <tbody>\n",
       "    <tr>\n",
       "      <th>0</th>\n",
       "      <td>39432962</td>\n",
       "      <td>Dododo Witch</td>\n",
       "      <td>Effect Monster</td>\n",
       "      <td>When this card is Normal or Special Summoned: ...</td>\n",
       "      <td>1200</td>\n",
       "      <td>1600</td>\n",
       "      <td>4</td>\n",
       "      <td>Warrior</td>\n",
       "      <td>EARTH</td>\n",
       "      <td>Dododo</td>\n",
       "      <td>https://images.ygoprodeck.com/images/cards_cro...</td>\n",
       "      <td>training_data_final/sampled_training_images/39...</td>\n",
       "      <td>39432962.jpg</td>\n",
       "      <td>39432962.jpg</td>\n",
       "    </tr>\n",
       "    <tr>\n",
       "      <th>1</th>\n",
       "      <td>62038047</td>\n",
       "      <td>Shiranui Smith</td>\n",
       "      <td>Effect Monster</td>\n",
       "      <td>If this card is sent from the field to the Gra...</td>\n",
       "      <td>1000</td>\n",
       "      <td>0</td>\n",
       "      <td>4</td>\n",
       "      <td>Zombie</td>\n",
       "      <td>FIRE</td>\n",
       "      <td>Shiranui</td>\n",
       "      <td>https://images.ygoprodeck.com/images/cards_cro...</td>\n",
       "      <td>training_data_final/sampled_training_images/62...</td>\n",
       "      <td>62038047.jpg</td>\n",
       "      <td>62038047.jpg</td>\n",
       "    </tr>\n",
       "    <tr>\n",
       "      <th>2</th>\n",
       "      <td>80925836</td>\n",
       "      <td>Koa'ki Meiru Doom</td>\n",
       "      <td>Effect Monster</td>\n",
       "      <td>During each of your End Phases, destroy this c...</td>\n",
       "      <td>1700</td>\n",
       "      <td>800</td>\n",
       "      <td>3</td>\n",
       "      <td>Fiend</td>\n",
       "      <td>WIND</td>\n",
       "      <td>Koa'ki Meiru</td>\n",
       "      <td>https://images.ygoprodeck.com/images/cards_cro...</td>\n",
       "      <td>training_data_final/sampled_training_images/80...</td>\n",
       "      <td>80925836.jpg</td>\n",
       "      <td>80925836.jpg</td>\n",
       "    </tr>\n",
       "    <tr>\n",
       "      <th>3</th>\n",
       "      <td>96746083</td>\n",
       "      <td>True King Agnimazud, the Vanisher</td>\n",
       "      <td>Effect Monster</td>\n",
       "      <td>If this card is in your hand: You can destroy ...</td>\n",
       "      <td>2900</td>\n",
       "      <td>1900</td>\n",
       "      <td>9</td>\n",
       "      <td>Wyrm</td>\n",
       "      <td>FIRE</td>\n",
       "      <td>Unknown</td>\n",
       "      <td>https://images.ygoprodeck.com/images/cards_cro...</td>\n",
       "      <td>training_data_final/sampled_training_images/96...</td>\n",
       "      <td>96746083.jpg</td>\n",
       "      <td>96746083.jpg</td>\n",
       "    </tr>\n",
       "    <tr>\n",
       "      <th>4</th>\n",
       "      <td>17063599</td>\n",
       "      <td>Heavenly Zephyr - Miradora</td>\n",
       "      <td>Effect Monster</td>\n",
       "      <td>The activation and effect of this card's effec...</td>\n",
       "      <td>2000</td>\n",
       "      <td>2600</td>\n",
       "      <td>7</td>\n",
       "      <td>Dragon</td>\n",
       "      <td>WIND</td>\n",
       "      <td>Unknown</td>\n",
       "      <td>https://images.ygoprodeck.com/images/cards_cro...</td>\n",
       "      <td>training_data_final/sampled_training_images/17...</td>\n",
       "      <td>17063599.jpg</td>\n",
       "      <td>17063599.jpg</td>\n",
       "    </tr>\n",
       "  </tbody>\n",
       "</table>\n",
       "</div>"
      ],
      "text/plain": [
       "         id                               name            type  \\\n",
       "0  39432962                       Dododo Witch  Effect Monster   \n",
       "1  62038047                     Shiranui Smith  Effect Monster   \n",
       "2  80925836                  Koa'ki Meiru Doom  Effect Monster   \n",
       "3  96746083  True King Agnimazud, the Vanisher  Effect Monster   \n",
       "4  17063599         Heavenly Zephyr - Miradora  Effect Monster   \n",
       "\n",
       "                                                desc   atk   def  level  \\\n",
       "0  When this card is Normal or Special Summoned: ...  1200  1600      4   \n",
       "1  If this card is sent from the field to the Gra...  1000     0      4   \n",
       "2  During each of your End Phases, destroy this c...  1700   800      3   \n",
       "3  If this card is in your hand: You can destroy ...  2900  1900      9   \n",
       "4  The activation and effect of this card's effec...  2000  2600      7   \n",
       "\n",
       "      race attribute     archetype  \\\n",
       "0  Warrior     EARTH        Dododo   \n",
       "1   Zombie      FIRE      Shiranui   \n",
       "2    Fiend      WIND  Koa'ki Meiru   \n",
       "3     Wyrm      FIRE       Unknown   \n",
       "4   Dragon      WIND       Unknown   \n",
       "\n",
       "                                           image_url  \\\n",
       "0  https://images.ygoprodeck.com/images/cards_cro...   \n",
       "1  https://images.ygoprodeck.com/images/cards_cro...   \n",
       "2  https://images.ygoprodeck.com/images/cards_cro...   \n",
       "3  https://images.ygoprodeck.com/images/cards_cro...   \n",
       "4  https://images.ygoprodeck.com/images/cards_cro...   \n",
       "\n",
       "                                          image_path     file_name  \\\n",
       "0  training_data_final/sampled_training_images/39...  39432962.jpg   \n",
       "1  training_data_final/sampled_training_images/62...  62038047.jpg   \n",
       "2  training_data_final/sampled_training_images/80...  80925836.jpg   \n",
       "3  training_data_final/sampled_training_images/96...  96746083.jpg   \n",
       "4  training_data_final/sampled_training_images/17...  17063599.jpg   \n",
       "\n",
       "       image_id  \n",
       "0  39432962.jpg  \n",
       "1  62038047.jpg  \n",
       "2  80925836.jpg  \n",
       "3  96746083.jpg  \n",
       "4  17063599.jpg  "
      ]
     },
     "execution_count": 16,
     "metadata": {},
     "output_type": "execute_result"
    }
   ],
   "source": [
    "df.head()"
   ]
  },
  {
   "cell_type": "code",
   "execution_count": 17,
   "metadata": {},
   "outputs": [
    {
     "data": {
      "text/plain": [
       "type\n",
       "Effect Monster                     1951\n",
       "Spell Card                          946\n",
       "Trap Card                           809\n",
       "XYZ Monster                         238\n",
       "Synchro Monster                     194\n",
       "Tuner Monster                       193\n",
       "Fusion Monster                      192\n",
       "Normal Monster                      187\n",
       "Link Monster                        178\n",
       "Pendulum Effect Monster             134\n",
       "Flip Effect Monster                  65\n",
       "Ritual Effect Monster                52\n",
       "Token                                42\n",
       "Pendulum Normal Monster              16\n",
       "Gemini Monster                       16\n",
       "Union Effect Monster                 14\n",
       "Spirit Monster                       14\n",
       "Synchro Tuner Monster                12\n",
       "Toon Monster                          8\n",
       "Pendulum Effect Fusion Monster        6\n",
       "XYZ Pendulum Effect Monster           5\n",
       "Synchro Pendulum Effect Monster       4\n",
       "Pendulum Tuner Effect Monster         4\n",
       "Normal Tuner Monster                  4\n",
       "Name: count, dtype: int64"
      ]
     },
     "execution_count": 17,
     "metadata": {},
     "output_type": "execute_result"
    }
   ],
   "source": [
    "df[\"type\"].value_counts()"
   ]
  },
  {
   "cell_type": "markdown",
   "metadata": {},
   "source": [
    "Before sampling"
   ]
  },
  {
   "cell_type": "code",
   "execution_count": 18,
   "metadata": {},
   "outputs": [],
   "source": [
    "df_original = pd.read_csv(\"training_data_final/sampled_all_training_cards.csv\")"
   ]
  },
  {
   "cell_type": "code",
   "execution_count": 19,
   "metadata": {},
   "outputs": [
    {
     "data": {
      "text/plain": [
       "(5284, 14)"
      ]
     },
     "execution_count": 19,
     "metadata": {},
     "output_type": "execute_result"
    }
   ],
   "source": [
    "df_original.shape"
   ]
  },
  {
   "cell_type": "code",
   "execution_count": 20,
   "metadata": {},
   "outputs": [
    {
     "data": {
      "text/plain": [
       "type\n",
       "Effect Monster                     0.369228\n",
       "Spell Card                         0.179031\n",
       "Trap Card                          0.153104\n",
       "XYZ Monster                        0.045042\n",
       "Synchro Monster                    0.036715\n",
       "Tuner Monster                      0.036525\n",
       "Fusion Monster                     0.036336\n",
       "Normal Monster                     0.035390\n",
       "Link Monster                       0.033687\n",
       "Pendulum Effect Monster            0.025360\n",
       "Flip Effect Monster                0.012301\n",
       "Ritual Effect Monster              0.009841\n",
       "Token                              0.007949\n",
       "Pendulum Normal Monster            0.003028\n",
       "Gemini Monster                     0.003028\n",
       "Union Effect Monster               0.002650\n",
       "Spirit Monster                     0.002650\n",
       "Synchro Tuner Monster              0.002271\n",
       "Toon Monster                       0.001514\n",
       "Pendulum Effect Fusion Monster     0.001136\n",
       "XYZ Pendulum Effect Monster        0.000946\n",
       "Synchro Pendulum Effect Monster    0.000757\n",
       "Pendulum Tuner Effect Monster      0.000757\n",
       "Normal Tuner Monster               0.000757\n",
       "Name: proportion, dtype: float64"
      ]
     },
     "execution_count": 20,
     "metadata": {},
     "output_type": "execute_result"
    }
   ],
   "source": [
    "df_original[\"type\"].value_counts(normalize=True)"
   ]
  },
  {
   "cell_type": "markdown",
   "metadata": {},
   "source": [
    "After improved sampling (based on type, will cause overrepresented data)"
   ]
  },
  {
   "cell_type": "code",
   "execution_count": 21,
   "metadata": {},
   "outputs": [],
   "source": [
    "df_original = pd.read_csv(\"training_data_final/sampled_all_training_cards.csv\")\n"
   ]
  },
  {
   "cell_type": "code",
   "execution_count": 22,
   "metadata": {},
   "outputs": [
    {
     "data": {
      "text/plain": [
       "(5284, 14)"
      ]
     },
     "execution_count": 22,
     "metadata": {},
     "output_type": "execute_result"
    }
   ],
   "source": [
    "df_original.shape"
   ]
  },
  {
   "cell_type": "code",
   "execution_count": 23,
   "metadata": {},
   "outputs": [
    {
     "data": {
      "text/plain": [
       "type\n",
       "Effect Monster                     0.369228\n",
       "Spell Card                         0.179031\n",
       "Trap Card                          0.153104\n",
       "XYZ Monster                        0.045042\n",
       "Synchro Monster                    0.036715\n",
       "Tuner Monster                      0.036525\n",
       "Fusion Monster                     0.036336\n",
       "Normal Monster                     0.035390\n",
       "Link Monster                       0.033687\n",
       "Pendulum Effect Monster            0.025360\n",
       "Flip Effect Monster                0.012301\n",
       "Ritual Effect Monster              0.009841\n",
       "Token                              0.007949\n",
       "Pendulum Normal Monster            0.003028\n",
       "Gemini Monster                     0.003028\n",
       "Union Effect Monster               0.002650\n",
       "Spirit Monster                     0.002650\n",
       "Synchro Tuner Monster              0.002271\n",
       "Toon Monster                       0.001514\n",
       "Pendulum Effect Fusion Monster     0.001136\n",
       "XYZ Pendulum Effect Monster        0.000946\n",
       "Synchro Pendulum Effect Monster    0.000757\n",
       "Pendulum Tuner Effect Monster      0.000757\n",
       "Normal Tuner Monster               0.000757\n",
       "Name: proportion, dtype: float64"
      ]
     },
     "execution_count": 23,
     "metadata": {},
     "output_type": "execute_result"
    }
   ],
   "source": [
    "df_original[\"type\"].value_counts(normalize=True)"
   ]
  },
  {
   "cell_type": "code",
   "execution_count": 24,
   "metadata": {},
   "outputs": [],
   "source": [
    "def card_dist(df):\n",
    "\n",
    "    card_dist = df.groupby('card_name').size().reset_index(name='counts')\n",
    "    card_dist = card_dist.sort_values(by='counts', ascending=False)\n",
    "    card_dist = card_dist.reset_index(drop=True)\n",
    "    return card_dist"
   ]
  }
 ],
 "metadata": {
  "kernelspec": {
   "display_name": "Python 3",
   "language": "python",
   "name": "python3"
  },
  "language_info": {
   "codemirror_mode": {
    "name": "ipython",
    "version": 3
   },
   "file_extension": ".py",
   "mimetype": "text/x-python",
   "name": "python",
   "nbconvert_exporter": "python",
   "pygments_lexer": "ipython3",
   "version": "3.10.13"
  }
 },
 "nbformat": 4,
 "nbformat_minor": 2
}
